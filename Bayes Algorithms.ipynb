{
 "cells": [
  {
   "cell_type": "code",
   "execution_count": 5,
   "id": "a9545614",
   "metadata": {},
   "outputs": [],
   "source": [
    "import torch\n",
    "import numpy as np"
   ]
  },
  {
   "cell_type": "markdown",
   "id": "07fc8f4e",
   "metadata": {},
   "source": [
    "## Naive Bayes Algorithms"
   ]
  },
  {
   "cell_type": "code",
   "execution_count": 6,
   "id": "66e46b8d",
   "metadata": {},
   "outputs": [],
   "source": [
    "def bayes_MAP(X, y):\n",
    "    theta = []\n",
    "    y_1 = []\n",
    "    y_0 = []\n",
    "    for j in range(X.shape[1]):\n",
    "        prob_y_1 = torch.sum(y)/len(y)\n",
    "        prob_y_0 = 1-prob_y_1\n",
    "\n",
    "        prob_x_y_1 = 0\n",
    "        prob_x_y_0 = 0\n",
    "        for i in range(X.shape[0]):\n",
    "            if (y[i] == 0 and X[i][j] == 1):\n",
    "                prob_x_y_0 += 1\n",
    "            if (y[i] == 1 and X[i][j] == 1):\n",
    "                prob_x_y_1 += 1\n",
    "        prob_x_y_1 = prob_x_y_1/X.shape[0]\n",
    "        prob_x_y_0 = prob_x_y_0/X.shape[0]\n",
    "        prob_1 = prob_x_y_1/prob_y_1\n",
    "        prob_0 = prob_x_y_0/prob_y_0\n",
    "        y_1.append(prob_1)\n",
    "        y_0.append(prob_0)\n",
    "    theta.append(y_0)\n",
    "    theta.append(y_1)\n",
    "    return torch.FloatTensor(theta)"
   ]
  },
  {
   "cell_type": "code",
   "execution_count": 7,
   "id": "dcbc4922",
   "metadata": {},
   "outputs": [],
   "source": [
    "def bayes_MLE(y):\n",
    "    return 1-torch.sum(y)/len(y)"
   ]
  },
  {
   "cell_type": "code",
   "execution_count": 8,
   "id": "041c5ee5",
   "metadata": {},
   "outputs": [],
   "source": [
    "def bayes_classify(theta, p, X):\n",
    "    y = []\n",
    "    for i in range(X.shape[0]):\n",
    "        y_1 = 0\n",
    "        y_0 = 0\n",
    "        for j in range(X.shape[1]):\n",
    "            a = 0\n",
    "            b = 0\n",
    "            if (X[i][j] == 1):\n",
    "                a = torch.log(theta[0][j])\n",
    "                b = torch.log(theta[1][j])\n",
    "            else:\n",
    "                a = torch.log(1-theta[0][j])\n",
    "                b = torch.log(1-theta[1][j])\n",
    "            if(a < -10000):\n",
    "                a = 0\n",
    "            if (b < -100):\n",
    "                b = 0\n",
    "            y_0 += a\n",
    "            y_1 += b\n",
    "        y_0 += torch.log(p)\n",
    "        y_1 += torch.log((1-p))\n",
    "        if (y_1 > y_0):\n",
    "            y.append(1)\n",
    "        else:\n",
    "            y.append(0)\n",
    "    return torch.Tensor(y)"
   ]
  },
  {
   "cell_type": "markdown",
   "id": "97a23e98",
   "metadata": {},
   "source": [
    "## Accuracy Check"
   ]
  },
  {
   "cell_type": "code",
   "execution_count": 9,
   "id": "5f62c2ab",
   "metadata": {},
   "outputs": [],
   "source": [
    "x, y = torch.load(\"bayes_train.pth\")\n",
    "D = bayes_MAP(x, y)\n",
    "p = bayes_MLE(y)\n",
    "\n",
    "xtest, ytest = torch.load(\"bayes_test.pth\")\n",
    "ypred = bayes_classify(D, p, xtest)"
   ]
  },
  {
   "cell_type": "code",
   "execution_count": 13,
   "id": "d7722893",
   "metadata": {},
   "outputs": [
    {
     "name": "stdout",
     "output_type": "stream",
     "text": [
      "tensor(0.9560)\n"
     ]
    }
   ],
   "source": [
    "accuracy = 1 - sum(abs(ypred - ytest))/len(ypred)\n",
    "print(accuracy)"
   ]
  },
  {
   "cell_type": "markdown",
   "id": "f6cc6144",
   "metadata": {},
   "source": [
    "## Gaussian Naive Bayes Algorithm"
   ]
  },
  {
   "cell_type": "code",
   "execution_count": 14,
   "id": "4f911308",
   "metadata": {},
   "outputs": [],
   "source": [
    "def gaussian_MAP(X, y):\n",
    "    mu = [[],[]]\n",
    "    sigma = [[],[]]\n",
    "    for i in range(X.shape[1]):\n",
    "        # for each column\n",
    "        mu_1 = torch.sum(torch.Tensor(X[:,i]).flatten()*torch.Tensor(y))\n",
    "        low_1 = torch.sum(y)\n",
    "        mu_0 = torch.sum(torch.Tensor(X[:,i]).flatten()*(torch.abs(1-torch.Tensor(y))))\n",
    "        low_0 = len(y) - low_1\n",
    "        mu_0 = mu_0/low_0\n",
    "        mu_1 = mu_1/low_1\n",
    "        mu[0].append(mu_0)\n",
    "        mu[1].append(mu_1)\n",
    "    \n",
    "    for i in range(X.shape[1]):\n",
    "        sigma_1 = torch.sum((torch.Tensor(X[:,i]).flatten()-torch.Tensor(mu[1][i]))**2 * torch.Tensor(y))\n",
    "        low_1 = torch.sum(y)\n",
    "        sigma_0 = torch.sum((torch.Tensor(X[:,i]).flatten()-torch.Tensor(mu[0][i]))**2 * torch.abs(1-torch.Tensor(y)))\n",
    "        low_0 = len(y) - low_1\n",
    "        sigma_1 = sigma_1/low_1\n",
    "        sigma_0 = sigma_0/low_0\n",
    "        sigma[0].append(sigma_0)\n",
    "        sigma[1].append(sigma_1)\n",
    "    return torch.Tensor(mu), torch.Tensor(sigma)"
   ]
  },
  {
   "cell_type": "code",
   "execution_count": 15,
   "id": "6c9fef2b",
   "metadata": {},
   "outputs": [],
   "source": [
    "def gaussian_MLE(y):\n",
    "    return 1-torch.sum(y)/len(y)"
   ]
  },
  {
   "cell_type": "code",
   "execution_count": 16,
   "id": "73880189",
   "metadata": {},
   "outputs": [],
   "source": [
    "def gaussian_classify(mu, sigma2, p, X):\n",
    "    y = []\n",
    "    for j in range(X.shape[0]):\n",
    "        y_1 = 1\n",
    "        y_0 = 1\n",
    "        cur_x = torch.Tensor(X[j])\n",
    "        y_1 = torch.sum(torch.log((torch.e**((-1/2)*((cur_x-mu[1])/(sigma2[1])**(1/2))**2))/(2*torch.pi*sigma2[1])**(1/2)))\n",
    "        y_0 = torch.sum(torch.log((torch.e**((-1/2)*((cur_x-mu[0])/(sigma2[0])**(1/2))**2))/(2*torch.pi*sigma2[0])**(1/2)))\n",
    "        y_1 += torch.log(1-p)\n",
    "        y_0 += torch.log(p)\n",
    "        if(y_1 > y_0):\n",
    "            y.append(1)\n",
    "        else:\n",
    "            y.append(0)\n",
    "    return torch.Tensor(y)"
   ]
  },
  {
   "cell_type": "markdown",
   "id": "fa91c232",
   "metadata": {},
   "source": [
    "## Accuracy Check"
   ]
  },
  {
   "cell_type": "code",
   "execution_count": 17,
   "id": "8ca0bccb",
   "metadata": {},
   "outputs": [],
   "source": [
    "x, y = torch.load(\"gaussian_train.pth\")\n",
    "D = bayes_MAP(x, y)\n",
    "p = bayes_MLE(y)\n",
    "\n",
    "xtest, ytest = torch.load(\"gaussian_test.pth\")\n",
    "ypred = bayes_classify(D, p, xtest)"
   ]
  },
  {
   "cell_type": "code",
   "execution_count": 18,
   "id": "92ead201",
   "metadata": {},
   "outputs": [
    {
     "name": "stdout",
     "output_type": "stream",
     "text": [
      "tensor(0.9100)\n"
     ]
    }
   ],
   "source": [
    "accuracy = 1 - sum(abs(ypred - ytest))/len(ypred)\n",
    "print(accuracy)"
   ]
  },
  {
   "cell_type": "code",
   "execution_count": null,
   "id": "20b43893",
   "metadata": {},
   "outputs": [],
   "source": []
  }
 ],
 "metadata": {
  "kernelspec": {
   "display_name": "Python 3 (ipykernel)",
   "language": "python",
   "name": "python3"
  },
  "language_info": {
   "codemirror_mode": {
    "name": "ipython",
    "version": 3
   },
   "file_extension": ".py",
   "mimetype": "text/x-python",
   "name": "python",
   "nbconvert_exporter": "python",
   "pygments_lexer": "ipython3",
   "version": "3.9.1"
  }
 },
 "nbformat": 4,
 "nbformat_minor": 5
}
