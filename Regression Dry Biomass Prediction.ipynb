{
 "cells": [
  {
   "cell_type": "code",
   "execution_count": 1,
   "id": "e63b2ab9",
   "metadata": {},
   "outputs": [
    {
     "name": "stderr",
     "output_type": "stream",
     "text": [
      "<frozen importlib._bootstrap>:228: RuntimeWarning: scipy._lib.messagestream.MessageStream size changed, may indicate binary incompatibility. Expected 56 from C header, got 64 from PyObject\n"
     ]
    }
   ],
   "source": [
    "import rasterio\n",
    "import pandas as pd\n",
    "import numpy as np\n",
    "import matplotlib.pyplot as plt\n",
    "import tifffile as tiff\n",
    "import math\n",
    "\n",
    "from sklearn.ensemble import RandomForestRegressor\n",
    "from sklearn.model_selection import train_test_split\n",
    "from sklearn.metrics import r2_score, mean_squared_error, mean_absolute_error\n",
    "from pyproj import Proj\n",
    "from scipy.stats import kde\n",
    "from matplotlib.ticker import MaxNLocator"
   ]
  },
  {
   "cell_type": "markdown",
   "id": "a626f8f2",
   "metadata": {},
   "source": [
    "## Read data"
   ]
  },
  {
   "cell_type": "code",
   "execution_count": 2,
   "id": "195841ea",
   "metadata": {},
   "outputs": [],
   "source": [
    "blue_0624 = rasterio.open('2020.06.24.blue.lzw.tif')\n",
    "green_0624 = rasterio.open('2020.06.24.green.lzw.tif')\n",
    "red_0624 = rasterio.open('2020.06.24.red.lzw.tif')\n",
    "swir1_0624 = rasterio.open('2020.06.24.swir1.lzw.tif')\n",
    "swir2_0624 = rasterio.open('2020.06.24.swir2.lzw.tif')\n",
    "nir_0624 = rasterio.open('2020.06.24.nir.lzw.tif')\n",
    "\n",
    "blue_0715 = rasterio.open('2020.07.15.blue.lzw.tif')\n",
    "green_0715 = rasterio.open('2020.07.15.green.lzw.tif')\n",
    "red_0715 = rasterio.open('2020.07.15.red.lzw.tif')\n",
    "swir1_0715 = rasterio.open('2020.07.15.swir1.lzw.tif')\n",
    "swir2_0715 = rasterio.open('2020.07.15.swir2.lzw.tif')\n",
    "nir_0715 = rasterio.open('2020.07.15.nir.lzw.tif')\n",
    "\n",
    "blue_1003 = rasterio.open('2020.10.03.blue.lzw.tif')\n",
    "green_1003 = rasterio.open('2020.10.03.green.lzw.tif')\n",
    "red_1003 = rasterio.open('2020.10.03.red.lzw.tif')\n",
    "swir1_1003 = rasterio.open('2020.10.03.swir1.lzw.tif')\n",
    "swir2_1003 = rasterio.open('2020.10.03.swir2.lzw.tif')\n",
    "nir_1003 = rasterio.open('2020.10.03.nir.lzw.tif')\n",
    "\n",
    "df = pd.read_excel('Plant.biomass.Reifsteck.2020.xlsx')"
   ]
  },
  {
   "cell_type": "code",
   "execution_count": 3,
   "id": "22c3effc",
   "metadata": {},
   "outputs": [
    {
     "name": "stdout",
     "output_type": "stream",
     "text": [
      "EPSG:32616\n"
     ]
    }
   ],
   "source": [
    "#check EPSG\n",
    "print(blue_0624.crs)"
   ]
  },
  {
   "cell_type": "markdown",
   "id": "5664b17d",
   "metadata": {},
   "source": [
    "## Convert coordinate"
   ]
  },
  {
   "cell_type": "code",
   "execution_count": 4,
   "id": "a2d12b13",
   "metadata": {},
   "outputs": [],
   "source": [
    "LLPoint = list(zip(df['Longitude'], df['Latitude']))\n",
    "p = Proj(proj = 'utm', zone = 16, ellps = 'WGS84', preserve_units = False)\n",
    "\n",
    "points = []\n",
    "for point in LLPoint:\n",
    "    x, y = p(point[0], point[1])\n",
    "    temp = (x, y)\n",
    "    points.append(temp)"
   ]
  },
  {
   "cell_type": "code",
   "execution_count": 5,
   "id": "a8ed243b",
   "metadata": {},
   "outputs": [],
   "source": [
    "# find value of corresponding point\n",
    "\n",
    "data_blue_0624 = np.array(list(rasterio.sample.sample_gen(blue_0624, points, 1))).flatten()\n",
    "data_green_0624 = np.array(list(rasterio.sample.sample_gen(green_0624, points, 1))).flatten()\n",
    "data_red_0624 = np.array(list(rasterio.sample.sample_gen(red_0624, points, 1))).flatten()\n",
    "data_swir1_0624 = np.array(list(rasterio.sample.sample_gen(swir1_0624, points, 1))).flatten()\n",
    "data_swir2_0624 = np.array(list(rasterio.sample.sample_gen(swir2_0624, points, 1))).flatten()\n",
    "data_nir_0624 = np.array(list(rasterio.sample.sample_gen(nir_0624, points, 1))).flatten()\n",
    "new_feature_0624 = (data_nir_0624 - data_red_0624)/(data_nir_0624 + data_red_0624)\n",
    "\n",
    "data_blue_0715 = np.array(list(rasterio.sample.sample_gen(blue_0715, points, 1))).flatten()\n",
    "data_green_0715 = np.array(list(rasterio.sample.sample_gen(green_0715, points, 1))).flatten()\n",
    "data_red_0715 = np.array(list(rasterio.sample.sample_gen(red_0715, points, 1))).flatten()\n",
    "data_swir1_0715 = np.array(list(rasterio.sample.sample_gen(swir1_0715, points, 1))).flatten()\n",
    "data_swir2_0715 = np.array(list(rasterio.sample.sample_gen(swir2_0715, points, 1))).flatten()\n",
    "data_nir_0715 = np.array(list(rasterio.sample.sample_gen(nir_0715, points, 1))).flatten()\n",
    "new_feature_0715 = (data_nir_0715 - data_red_0715)/(data_nir_0715 + data_red_0715)\n",
    "\n",
    "data_blue_1003 = np.array(list(rasterio.sample.sample_gen(blue_1003, points, 1))).flatten()\n",
    "data_green_1003 = np.array(list(rasterio.sample.sample_gen(green_1003, points, 1))).flatten()\n",
    "data_red_1003 = np.array(list(rasterio.sample.sample_gen(red_1003, points, 1))).flatten()\n",
    "data_swir1_1003 = np.array(list(rasterio.sample.sample_gen(swir1_1003, points, 1))).flatten()\n",
    "data_swir2_1003 = np.array(list(rasterio.sample.sample_gen(swir2_1003, points, 1))).flatten()\n",
    "data_nir_1003 = np.array(list(rasterio.sample.sample_gen(nir_1003, points, 1))).flatten()\n",
    "new_feature_1003 = (data_nir_1003 - data_red_1003)/(data_nir_1003 + data_red_1003)\n",
    "\n",
    "data_1 = df['Dry biomass (Mg/ha)'].tolist()\n",
    "rounded_1 = [round(num, 1) for num in data_1]\n",
    "\n",
    "data_2 = df['Dry biomass (Mg/ha).1'].tolist()\n",
    "rounded_2 = [round(num, 1) for num in data_2]\n",
    "\n",
    "data_3 = df['Dry biomass (Mg/ha).2'].tolist()\n",
    "rounded_3 = [round(num, 1) for num in data_3]\n",
    "\n",
    "x = []\n",
    "y = []\n",
    "\n",
    "for i in range(len(rounded_1)):\n",
    "    if not (math.isnan(rounded_1[i])):\n",
    "        temp = [data_blue_0624[i]/10000, data_green_0624[i]/10000, data_red_0624[i]/10000, data_nir_0624[i]/10000, data_swir1_0624[i]/10000, data_swir2_0624[i]/10000, new_feature_0624[i]]\n",
    "        x.append(temp)\n",
    "        y.append(rounded_1[i])\n",
    "for i in range(len(rounded_2)):\n",
    "    if not (math.isnan(rounded_2[i])):\n",
    "        temp = [data_blue_0715[i]/10000, data_green_0715[i]/10000, data_red_0715[i]/10000, data_nir_0715[i]/10000, data_swir1_0715[i]/10000, data_swir2_0715[i]/10000, new_feature_0715[i]]\n",
    "        x.append(temp)\n",
    "        y.append(rounded_2[i])\n",
    "for i in range(len(rounded_3)):\n",
    "    if not (math.isnan(rounded_3[i])):\n",
    "        temp = [data_blue_1003[i]/10000, data_green_1003[i]/10000, data_red_1003[i]/10000, data_nir_1003[i]/10000, data_swir1_1003[i]/10000, data_swir2_1003[i]/10000, new_feature_1003[i]]\n",
    "        x.append(temp)\n",
    "        y.append(rounded_3[i])"
   ]
  },
  {
   "cell_type": "markdown",
   "id": "f2ca4d9d",
   "metadata": {},
   "source": [
    "## Initialize model"
   ]
  },
  {
   "cell_type": "code",
   "execution_count": 6,
   "id": "aa63b79f",
   "metadata": {},
   "outputs": [],
   "source": [
    "x_train, x_test, y_train, y_test = train_test_split(x, y, test_size = 0.2)\n",
    "rf_model = RandomForestRegressor(max_depth=15, random_state=0)\n",
    "rf_model.fit(x_train, y_train)\n",
    "y_pred = rf_model.predict(x_test)"
   ]
  },
  {
   "cell_type": "code",
   "execution_count": 7,
   "id": "c70cad4c",
   "metadata": {},
   "outputs": [],
   "source": [
    "def des_scatter_plot(y_true: np.ndarray, y_pred: np.ndarray, label_name: str, save_path: str, ax: plt.Axes = None):\n",
    "    # assert (save_path is not None and ax is None) or (save_path is None and ax is not None)\n",
    "    save_fig = ax is None and save_path is not None\n",
    "\n",
    "    # Evaluate a gaussian kde on a regular grid of n_bins x n_bins over data extents\n",
    "    # Calculate the point density\n",
    "    xy = np.vstack([y_pred, y_true])\n",
    "    colors = kde.gaussian_kde(xy)(xy)\n",
    "\n",
    "    # r2 = r2_score(y_true=y_true, y_pred=y_pred)\n",
    "    r2 = np.corrcoef(y_true, y_pred)[0, 1] ** 2\n",
    "    rmse = mean_squared_error(y_true=y_true, y_pred=y_pred, squared=False)\n",
    "    mae = mean_absolute_error(y_true=y_true, y_pred=y_pred)\n",
    "    bias = float(np.mean(y_pred - y_true))\n",
    "    range_ = np.max(y_true) - np.min(y_true)\n",
    "\n",
    "    if ax is None:\n",
    "        fig, ax = plt.subplots(figsize=(10, 8))\n",
    "    # ax.scatter(x=y_pred, y=y_true, c=colors, s=80, alpha=1)\n",
    "    # ax.scatter(x=y_pred, y=y_true, s=80, alpha=1, edgecolors=\"k\")\n",
    "    ax.scatter(x=y_pred, y=y_true, s=80, c=colors, alpha=1)\n",
    "    # ax.set_title(label_name)\n",
    "\n",
    "    ax.set_xlabel(\"Predicted Value\")\n",
    "    ax.set_ylabel(\"Actual Value\")\n",
    "    txt = f\"RMSE = {rmse:.2f} ({(rmse / range_ * 100):.2f}%)\\n\" \\\n",
    "          f\"Bias = {bias:.2f} ({(bias / range_ * 100):.2f}%)\\n\" \\\n",
    "          f\"$R^2$ = {r2:.2f}\\n\"\n",
    "    # f\"MAE = {round(mae, 2)} ({round(mae / y_true.mean() * 100, 2)} %)\\n\"\n",
    "    axis_min, axis_max = 0, max(np.max(y_true), np.max(y_pred))\n",
    "    # axis_min = max(5 * round(axis_min - np.abs(axis_max - axis_min) * 0.05) / 5, 0)\n",
    "    # axis_max = 5 * round((axis_max + np.abs(axis_max - axis_min) * 0.3) / 5 + 1)\n",
    "    if label_name.lower() == \"residue\":\n",
    "        ax.set_xlim(0, 1)\n",
    "        ax.set_ylim(0, 1)\n",
    "    else:\n",
    "        ax.set_xlim(axis_min, axis_max)\n",
    "        ax.set_ylim(axis_min, axis_max)\n",
    "    ax.plot(\n",
    "        [-1000, 1000],\n",
    "        [-1000, 1000],\n",
    "        linestyle='--', color='k'\n",
    "    )\n",
    "    ya, xa = ax.get_yaxis(), ax.get_xaxis()\n",
    "    locator = MaxNLocator(nbins=5, min_n_ticks=3, steps=[2, 5, 10], integer=True)\n",
    "    locator.view_limits(axis_min, axis_max)\n",
    "    ya.set_major_locator(locator)\n",
    "    xa.set_major_locator(locator)\n",
    "    ax.annotate(text=txt, xy=(0.02, 0.70), xycoords='axes fraction', color=\"red\")\n",
    "    if save_fig:\n",
    "        plt.savefig(save_path, dpi=500)\n",
    "    elif not ax:\n",
    "        plt.show()"
   ]
  },
  {
   "cell_type": "markdown",
   "id": "d3b6c930",
   "metadata": {},
   "source": [
    "## Report"
   ]
  },
  {
   "cell_type": "code",
   "execution_count": 65,
   "id": "313e4655",
   "metadata": {},
   "outputs": [
    {
     "name": "stderr",
     "output_type": "stream",
     "text": [
      "C:\\Users\\Windows10\\AppData\\Local\\Temp\\ipykernel_10620\\1313179612.py:8: DeprecationWarning: Please use `gaussian_kde` from the `scipy.stats` namespace, the `scipy.stats.kde` namespace is deprecated.\n",
      "  colors = kde.gaussian_kde(xy)(xy)\n"
     ]
    },
    {
     "data": {
      "image/png": "[encoded data removed]",
      "text/plain": [
       "<Figure size 720x576 with 1 Axes>"
      ]
     },
     "metadata": {
      "needs_background": "light"
     },
     "output_type": "display_data"
    }
   ],
   "source": [
    "des_scatter_plot(y_test, y_pred, '', 'report')"
   ]
  },
  {
   "cell_type": "code",
   "execution_count": null,
   "id": "d6be8b19",
   "metadata": {},
   "outputs": [],
   "source": []
  }
 ],
 "metadata": {
  "kernelspec": {
   "display_name": "Python 3 (ipykernel)",
   "language": "python",
   "name": "python3"
  },
  "language_info": {
   "codemirror_mode": {
    "name": "ipython",
    "version": 3
   },
   "file_extension": ".py",
   "mimetype": "text/x-python",
   "name": "python",
   "nbconvert_exporter": "python",
   "pygments_lexer": "ipython3",
   "version": "3.9.1"
  }
 },
 "nbformat": 4,
 "nbformat_minor": 5
}
