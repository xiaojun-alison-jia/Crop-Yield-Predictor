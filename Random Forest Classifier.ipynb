{
 "cells": [
  {
   "cell_type": "code",
   "execution_count": 1,
   "id": "61f9af4e",
   "metadata": {
    "scrolled": true
   },
   "outputs": [
    {
     "name": "stderr",
     "output_type": "stream",
     "text": [
      "<frozen importlib._bootstrap>:228: RuntimeWarning: scipy._lib.messagestream.MessageStream size changed, may indicate binary incompatibility. Expected 56 from C header, got 64 from PyObject\n"
     ]
    }
   ],
   "source": [
    "import rasterio\n",
    "import pandas as pd\n",
    "from osgeo import gdal\n",
    "from pyproj import Proj, transform\n",
    "import numpy as np\n",
    "import math\n",
    "from sklearn.ensemble import RandomForestClassifier\n",
    "from sklearn.ensemble import RandomForestRegressor\n",
    "from sklearn.metrics import classification_report\n",
    "from sklearn.model_selection import train_test_split\n",
    "import matplotlib.pyplot as plt\n",
    "from scipy.stats import kde\n",
    "from sklearn.metrics import r2_score, mean_squared_error, mean_absolute_error\n",
    "from matplotlib.ticker import MaxNLocator\n",
    "from sklearn.metrics import r2_score\n",
    "from sklearn.metrics import mean_squared_error\n",
    "\n",
    "from sklearn.inspection import permutation_importance\n",
    "from decimal import Decimal\n",
    "from IPython.display import display, HTML\n",
    "\n",
    "import time"
   ]
  },
  {
   "cell_type": "markdown",
   "id": "94df8e2f",
   "metadata": {},
   "source": [
    "## Read files"
   ]
  },
  {
   "cell_type": "code",
   "execution_count": 2,
   "id": "59acbd5e",
   "metadata": {},
   "outputs": [],
   "source": [
    "# find index where contains non-zero\n",
    "# group with same block and get average"
   ]
  },
  {
   "cell_type": "code",
   "execution_count": null,
   "id": "9dc574a2",
   "metadata": {},
   "outputs": [],
   "source": [
    "# June data\n",
    "\n",
    "file_0611 = np.array([rasterio.open('0611_18_5000.tif').read(), rasterio.open('0611_18_10000.tif').read(), rasterio.open('0611_19_0.tif').read()])\n",
    "file_0618 = np.array([rasterio.open('0618_19_5000.tif').read(), rasterio.open('0618_19_10000.tif').read(), rasterio.open('0618_20_5000.tif').read(), rasterio.open('0618_21_5000.tif').read()])"
   ]
  },
  {
   "cell_type": "code",
   "execution_count": null,
   "id": "a99f5994",
   "metadata": {},
   "outputs": [],
   "source": [
    "# August data\n",
    "\n",
    "file_0806 = np.array([rasterio.open('0806_15_0.tif').read(), rasterio.open('0806_15_5000.tif').read(), rasterio.open('0806_16_5000.tif').read(), rasterio.open('0806_17_0.tif').read()])\n",
    "file_0819 = np.array([rasterio.open('0819_16_0.tif').read(), rasterio.open('0819_17_0.tif').read(), rasterio.open('0819_17_5000.tif').read(), rasterio.open('0819_18_0.tif').read(), rasterio.open('0819_18_5000.tif').read()])\n",
    "file_0826 = np.array([rasterio.open('0826_17_5000.tif').read(), rasterio.open('0826_17_10000.tif').read(), rasterio.open('0826_18_0.tif').read(), rasterio.open('0826_19_0.tif').read(), rasterio.open('0826_19_5000.tif').read()])"
   ]
  },
  {
   "cell_type": "code",
   "execution_count": 3,
   "id": "06211771",
   "metadata": {},
   "outputs": [],
   "source": [
    "# September data\n",
    "\n",
    "file_0905 = np.array([rasterio.open('0905_14_0.tif').read(), rasterio.open('0905_14_5000.tif').read(), rasterio.open('0905_15_0.tif').read(), rasterio.open('0905_16_0.tif').read(), rasterio.open('0905_17_0.tif').read(), rasterio.open('0905_17_5000.tif').read()])\n",
    "file_0919 = np.array([rasterio.open('0919_15_0.tif').read(), rasterio.open('0919_16_0.tif').read(), rasterio.open('0919_17_0.tif').read(), rasterio.open('0919_18_0.tif').read()])"
   ]
  },
  {
   "cell_type": "code",
   "execution_count": 4,
   "id": "badd4930",
   "metadata": {
    "scrolled": false
   },
   "outputs": [],
   "source": [
    "# Label data\n",
    "\n",
    "map_ = rasterio.open('yield_pdf_report.tif').read()\n",
    "map_ = map_[0]"
   ]
  },
  {
   "cell_type": "markdown",
   "id": "8e568787",
   "metadata": {},
   "source": [
    "## Merge data into matrix"
   ]
  },
  {
   "cell_type": "code",
   "execution_count": null,
   "id": "20f77f18",
   "metadata": {},
   "outputs": [],
   "source": [
    "# June data\n",
    "# for each band each day, group overlap pixel in one group\n",
    "\n",
    "total_0611 = []\n",
    "total_0618 = []\n",
    "\n",
    "for band in range(360):\n",
    "\n",
    "    data_0611 = np.dstack((file_0611[0][band].reshape(254, 447, 1), file_0611[1][band].reshape(254, 447, 1)))\n",
    "    data_0611 = np.dstack((data_0611, file_0611[2][band].reshape(254, 447, 1)))\n",
    "\n",
    "    data_0618 = np.dstack((file_0618[0][band].reshape(254, 447, 1), file_0618[1][band].reshape(254, 447, 1)))\n",
    "    data_0618 = np.dstack((data_0618, file_0618[1][band].reshape(254, 447, 1)))\n",
    "    data_0618 = np.dstack((data_0618, file_0618[2][band].reshape(254, 447, 1)))\n",
    "    data_0618 = np.dstack((data_0618, file_0618[3][band].reshape(254, 447, 1)))\n",
    "    \n",
    "    total_0611.append(data_0611)\n",
    "    total_0618.append(data_0618)\n",
    "    \n",
    "total_0611 = np.array(total_0611)\n",
    "total_0618 = np.array(total_0618)"
   ]
  },
  {
   "cell_type": "code",
   "execution_count": null,
   "id": "95414e1d",
   "metadata": {},
   "outputs": [],
   "source": [
    "# August data\n",
    "# for each band each day, group overlap pixel in one group\n",
    "\n",
    "total_0806 = []\n",
    "total_0819 = []\n",
    "total_0826 = []\n",
    "\n",
    "for band in range(360):\n",
    "    data_0806 = np.dstack((file_0806[0][band].reshape(254, 447, 1),file_0806[1][band].reshape(254, 447, 1)))\n",
    "    data_0806 = np.dstack((data_0806,file_0806[2][band].reshape(254, 447, 1)))\n",
    "    data_0806 = np.dstack((data_0806,file_0806[3][band].reshape(254, 447, 1)))\n",
    "    \n",
    "    data_0819 = np.dstack((file_0819[0][band].reshape(254, 447, 1),file_0819[1][band].reshape(254, 447, 1)))\n",
    "    data_0819 = np.dstack((data_0819,file_0819[2][band].reshape(254, 447, 1)))\n",
    "    data_0819 = np.dstack((data_0819,file_0819[3][band].reshape(254, 447, 1)))\n",
    "    data_0819 = np.dstack((data_0819,file_0819[4][band].reshape(254, 447, 1)))\n",
    "    \n",
    "    data_0826 = np.dstack((file_0826[0][band].reshape(254, 447, 1),file_0826[1][band].reshape(254, 447, 1)))\n",
    "    data_0826 = np.dstack((data_0826,file_0826[2][band].reshape(254, 447, 1)))\n",
    "    data_0826 = np.dstack((data_0826,file_0826[3][band].reshape(254, 447, 1)))\n",
    "    data_0826 = np.dstack((data_0826,file_0826[4][band].reshape(254, 447, 1)))\n",
    "\n",
    "    \n",
    "    total_0806.append(data_0806)\n",
    "    total_0819.append(data_0819)\n",
    "    total_0826.append(data_0826)\n",
    "\n",
    "total_0806 = np.array(total_0806)\n",
    "total_0819 = np.array(total_0819)\n",
    "total_0826 = np.array(total_0826)"
   ]
  },
  {
   "cell_type": "code",
   "execution_count": 5,
   "id": "37d8e4fa",
   "metadata": {},
   "outputs": [
    {
     "name": "stdout",
     "output_type": "stream",
     "text": [
      "--- 3.7904200553894043 seconds ---\n"
     ]
    }
   ],
   "source": [
    "# September data\n",
    "# for each band each day, group overlap pixel in one group\n",
    "\n",
    "start_time = time.time()\n",
    "\n",
    "total_0905 = []\n",
    "total_0919 = []\n",
    "\n",
    "for band in range(360):\n",
    "    data_0905 = np.dstack((file_0905[0][band].reshape(254, 447, 1),file_0905[1][band].reshape(254, 447, 1)))\n",
    "    data_0905 = np.dstack((data_0905,file_0905[2][band].reshape(254, 447, 1)))\n",
    "    data_0905 = np.dstack((data_0905,file_0905[3][band].reshape(254, 447, 1)))\n",
    "    data_0905 = np.dstack((data_0905,file_0905[4][band].reshape(254, 447, 1)))\n",
    "    data_0905 = np.dstack((data_0905,file_0905[5][band].reshape(254, 447, 1)))\n",
    "\n",
    "    \n",
    "    data_0919 = np.dstack((file_0919[0][band].reshape(254, 447, 1),file_0919[1][band].reshape(254, 447, 1)))\n",
    "    data_0919 = np.dstack((data_0919,file_0919[2][band].reshape(254, 447, 1)))\n",
    "    data_0919 = np.dstack((data_0919,file_0919[3][band].reshape(254, 447, 1)))\n",
    "\n",
    "    \n",
    "    total_0905.append(data_0905)\n",
    "    total_0919.append(data_0919)\n",
    "\n",
    "total_0905 = np.array(total_0905)\n",
    "total_0919 = np.array(total_0919)\n",
    "\n",
    "print(\"--- %s seconds ---\" % (time.time() - start_time))"
   ]
  },
  {
   "cell_type": "markdown",
   "id": "bb226de2",
   "metadata": {},
   "source": [
    "## Data cleaning: remove points where corresponding label is invalid"
   ]
  },
  {
   "cell_type": "code",
   "execution_count": 98,
   "id": "895c4af4",
   "metadata": {},
   "outputs": [],
   "source": [
    "# find invalid index based on map_ (since we only consider points with not zero for yield as valid)\n",
    "# June data\n",
    "\n",
    "index_ = np.where(map_ == 0)\n",
    "\n",
    "# replace data with 0 on invalid point\n",
    "\n",
    "for band in range(360):\n",
    "    total_0611[band][index_] = 0\n",
    "    total_0618[band][index_] = 0"
   ]
  },
  {
   "cell_type": "code",
   "execution_count": 8,
   "id": "01542908",
   "metadata": {},
   "outputs": [],
   "source": [
    "# August data\n",
    "\n",
    "index_ = np.where(map_ == 0)\n",
    "\n",
    "for band in range(360):\n",
    "    total_0806[band][index_] = 0\n",
    "    total_0819[band][index_] = 0\n",
    "    total_0826[band][index_] = 0"
   ]
  },
  {
   "cell_type": "code",
   "execution_count": 6,
   "id": "da205b97",
   "metadata": {},
   "outputs": [],
   "source": [
    "# Stptember data\n",
    "\n",
    "index_ = np.where(map_ == 0)\n",
    "\n",
    "for band in range(360):\n",
    "    total_0905[band][index_] = 0\n",
    "    total_0919[band][index_] = 0"
   ]
  },
  {
   "cell_type": "markdown",
   "id": "71996ead",
   "metadata": {},
   "source": [
    "## Group data and take average to reduce noise"
   ]
  },
  {
   "cell_type": "code",
   "execution_count": 99,
   "id": "afbc8388",
   "metadata": {},
   "outputs": [
    {
     "name": "stdout",
     "output_type": "stream",
     "text": [
      "finish 10\n",
      "finish 20\n",
      "finish 30\n",
      "finish 40\n",
      "finish 50\n",
      "finish 60\n",
      "finish 70\n",
      "finish 80\n",
      "finish 90\n",
      "finish 100\n",
      "finish 110\n",
      "finish 120\n",
      "finish 130\n",
      "finish 140\n",
      "finish 150\n",
      "finish 160\n",
      "finish 170\n",
      "finish 180\n",
      "finish 190\n",
      "finish 200\n",
      "finish 210\n",
      "finish 220\n",
      "finish 230\n",
      "finish 240\n",
      "finish 250\n",
      "finish 260\n",
      "finish 270\n",
      "finish 280\n",
      "finish 290\n",
      "finish 300\n",
      "finish 310\n",
      "finish 320\n",
      "finish 330\n",
      "finish 340\n",
      "finish 350\n"
     ]
    }
   ],
   "source": [
    "# june data\n",
    "\n",
    "group = 5\n",
    "x = int(254/group)\n",
    "y = int(447/group)\n",
    "\n",
    "June_result = []\n",
    "\n",
    "for band in range(360):\n",
    "    if ((band%10 == 0) and band != 0):\n",
    "#         print(\"finish \" + str(band))\n",
    "    cur_0611 = total_0611[band]\n",
    "    cur_0618 = total_0618[band]\n",
    "    \n",
    "    count = 0\n",
    "    for i in range(x):\n",
    "        for j in range(y):\n",
    "            cur_spot = []\n",
    "            temp_0611 = cur_0611[i*group:(i+1)*group, j*group:(j+1)*group].astype(Decimal).flatten()\n",
    "            temp_0618 = cur_0618[i*group:(i+1)*group, j*group:(j+1)*group].astype(Decimal).flatten()\n",
    "            \n",
    "            mean_0611 = 0\n",
    "            mean_0618 = 0\n",
    "\n",
    "            if (np.all((temp_0611 != 0))):\n",
    "                masked = np.ma.masked_equal(temp_0611, 0)\n",
    "                mean_0611 = masked.mean(axis = 0)\n",
    "\n",
    "            if (np.all((temp_0618 != 0))):\n",
    "                masked = np.ma.masked_equal(temp_0618, 0)\n",
    "                mean_0618 = masked.mean(axis = 0)\n",
    "\n",
    "            cur_spot.append(mean_0611)\n",
    "            cur_spot.append(mean_0618)\n",
    "            \n",
    "            if (band == 0):\n",
    "                June_result.append(cur_spot[:2])\n",
    "            else:\n",
    "                June_result[count] += cur_spot[:2]\n",
    "            count += 1"
   ]
  },
  {
   "cell_type": "code",
   "execution_count": 9,
   "id": "ac2b4bd7",
   "metadata": {},
   "outputs": [
    {
     "name": "stdout",
     "output_type": "stream",
     "text": [
      "finish 10\n",
      "finish 20\n",
      "finish 30\n",
      "finish 40\n",
      "finish 50\n",
      "finish 60\n",
      "finish 70\n",
      "finish 80\n",
      "finish 90\n",
      "finish 100\n",
      "finish 110\n",
      "finish 120\n",
      "finish 130\n",
      "finish 140\n",
      "finish 150\n",
      "finish 160\n",
      "finish 170\n",
      "finish 180\n",
      "finish 190\n",
      "finish 200\n",
      "finish 210\n",
      "finish 220\n",
      "finish 230\n",
      "finish 240\n",
      "finish 250\n",
      "finish 260\n",
      "finish 270\n",
      "finish 280\n",
      "finish 290\n",
      "finish 300\n",
      "finish 310\n",
      "finish 320\n",
      "finish 330\n",
      "finish 340\n",
      "finish 350\n"
     ]
    }
   ],
   "source": [
    "# August data\n",
    "\n",
    "group = 5\n",
    "x = int(254/group)\n",
    "y = int(447/group)\n",
    "\n",
    "August_result = []\n",
    "\n",
    "for band in range(360):\n",
    "    if ((band%10 == 0) and band != 0):\n",
    "#         print(\"finish \" + str(band))\n",
    "    cur_0806 = total_0806[band]\n",
    "    cur_0819 = total_0819[band]\n",
    "    cur_0826 = total_0826[band]\n",
    "    \n",
    "    count = 0\n",
    "    for i in range(x):\n",
    "        for j in range(y):\n",
    "            cur_spot = []\n",
    "            temp_0806 = cur_0806[i*group:(i+1)*group, j*group:(j+1)*group].astype(Decimal).flatten()\n",
    "            temp_0819 = cur_0819[i*group:(i+1)*group, j*group:(j+1)*group].astype(Decimal).flatten()\n",
    "            temp_0826 = cur_0826[i*group:(i+1)*group, j*group:(j+1)*group].astype(Decimal).flatten()\n",
    "            \n",
    "            mean_0806 = 0\n",
    "            mean_0819 = 0\n",
    "            mean_0826 = 0\n",
    "            \n",
    "            if (np.all((temp_0806 != 0))):\n",
    "                masked = np.ma.masked_equal(temp_0806, 0)\n",
    "                mean_0806 = masked.mean(axis = 0)\n",
    "                \n",
    "            if (np.all((temp_0819 != 0))):\n",
    "                masked = np.ma.masked_equal(temp_0819, 0)\n",
    "                mean_0819 = masked.mean(axis = 0)\n",
    "                \n",
    "            if (np.all((temp_0826 != 0))):\n",
    "                masked = np.ma.masked_equal(temp_0826, 0)\n",
    "                mean_0826 = masked.mean(axis = 0)\n",
    "\n",
    "            cur_spot.append(mean_0806)\n",
    "            cur_spot.append(mean_0819)\n",
    "            cur_spot.append(mean_0826)\n",
    "            \n",
    "            if (band == 0):\n",
    "                August_result.append(cur_spot)\n",
    "            else:\n",
    "                August_result[count] += cur_spot\n",
    "            count += 1"
   ]
  },
  {
   "cell_type": "code",
   "execution_count": 10,
   "id": "480aabc1",
   "metadata": {},
   "outputs": [
    {
     "name": "stdout",
     "output_type": "stream",
     "text": [
      "finish 10\n",
      "finish 20\n",
      "finish 30\n",
      "finish 40\n",
      "finish 50\n",
      "finish 60\n",
      "finish 70\n",
      "finish 80\n",
      "finish 90\n",
      "finish 100\n",
      "finish 110\n",
      "finish 120\n",
      "finish 130\n",
      "finish 140\n",
      "finish 150\n",
      "finish 160\n",
      "finish 170\n",
      "finish 180\n",
      "finish 190\n",
      "finish 200\n",
      "finish 210\n",
      "finish 220\n",
      "finish 230\n",
      "finish 240\n",
      "finish 250\n",
      "finish 260\n",
      "finish 270\n",
      "finish 280\n",
      "finish 290\n",
      "finish 300\n",
      "finish 310\n",
      "finish 320\n",
      "finish 330\n",
      "finish 340\n",
      "finish 350\n"
     ]
    }
   ],
   "source": [
    "# September data\n",
    "\n",
    "group = 5\n",
    "x = int(254/group)\n",
    "y = int(447/group)\n",
    "\n",
    "September_result = []\n",
    "\n",
    "for band in range(360):\n",
    "    if ((band%10 == 0) and band != 0):\n",
    "#         print(\"finish \" + str(band))\n",
    "    cur_0905 = total_0905[band]\n",
    "    cur_0919 = total_0919[band]\n",
    "    \n",
    "    count = 0\n",
    "    for i in range(x):\n",
    "        for j in range(y):\n",
    "            cur_spot = []\n",
    "            temp_0905 = cur_0905[i*group:(i+1)*group, j*group:(j+1)*group].astype(Decimal).flatten()\n",
    "            temp_0919 = cur_0919[i*group:(i+1)*group, j*group:(j+1)*group].astype(Decimal).flatten()\n",
    "            \n",
    "            mean_0905 = 0\n",
    "            mean_0919 = 0\n",
    "            \n",
    "            if (np.all((temp_0905 != 0))):\n",
    "                masked = np.ma.masked_equal(temp_0905, 0)\n",
    "                mean_0905 = masked.mean(axis = 0)\n",
    "                \n",
    "            if (np.all((temp_0919 != 0))):\n",
    "                masked = np.ma.masked_equal(temp_0919, 0)\n",
    "                mean_0919 = masked.mean(axis = 0)\n",
    "\n",
    "            cur_spot.append(mean_0905)\n",
    "            cur_spot.append(mean_0919)\n",
    "            \n",
    "            if (band == 0):\n",
    "                September_result.append(cur_spot)\n",
    "            else:\n",
    "                September_result[count] += cur_spot\n",
    "            count += 1"
   ]
  },
  {
   "cell_type": "markdown",
   "id": "8f1e81f7",
   "metadata": {},
   "source": [
    "## Generate test data"
   ]
  },
  {
   "cell_type": "code",
   "execution_count": 13,
   "id": "05020b27",
   "metadata": {},
   "outputs": [],
   "source": [
    "Y = []\n",
    "for i in range(x):\n",
    "    for j in range(y):\n",
    "        temp = map_[i*group:(i+1)*group, j*group:(j+1)*group].astype(Decimal).flatten()\n",
    "        mean = 0\n",
    "        if (np.all((temp != 0))):\n",
    "            masked = np.ma.masked_equal(temp, 0)\n",
    "            mean = masked.mean(axis = 0)\n",
    "        Y.append(mean)"
   ]
  },
  {
   "cell_type": "code",
   "execution_count": 14,
   "id": "b7335041",
   "metadata": {},
   "outputs": [
    {
     "name": "stdout",
     "output_type": "stream",
     "text": [
      "(4450,)\n",
      "(4450, 1080)\n",
      "(4450, 720)\n"
     ]
    }
   ],
   "source": [
    "# sanity check\n",
    "\n",
    "Y = np.array(Y)\n",
    "print(Y.shape)\n",
    "print(np.array(August_result).shape)\n",
    "print(np.array(September_result).shape)"
   ]
  },
  {
   "cell_type": "markdown",
   "id": "86dad3e5",
   "metadata": {},
   "source": [
    "## Data cleaning: remove blocks with all invalid data"
   ]
  },
  {
   "cell_type": "code",
   "execution_count": 114,
   "id": "3d01a8c6",
   "metadata": {},
   "outputs": [],
   "source": [
    "# June data\n",
    "\n",
    "June_drop_zero = []\n",
    "\n",
    "for i in range(Y.shape[0]):\n",
    "    if Y[i] != 0:\n",
    "        Y_drop_zero.append(Y[i])\n",
    "        June_drop_zero.append(June_result[i])"
   ]
  },
  {
   "cell_type": "code",
   "execution_count": 15,
   "id": "4d377312",
   "metadata": {},
   "outputs": [],
   "source": [
    "# August data\n",
    "\n",
    "August_drop_zero = []\n",
    "Y_drop_zero = []\n",
    "\n",
    "for i in range(Y.shape[0]):\n",
    "    if Y[i] != 0:\n",
    "        Y_drop_zero.append(Y[i])\n",
    "        August_drop_zero.append(August_result[i])"
   ]
  },
  {
   "cell_type": "code",
   "execution_count": 16,
   "id": "fb88b9fa",
   "metadata": {},
   "outputs": [],
   "source": [
    "# September data\n",
    "\n",
    "September_drop_zero = []\n",
    "\n",
    "for i in range(Y.shape[0]):\n",
    "    if Y[i] != 0:\n",
    "        September_drop_zero.append(September_result[i])"
   ]
  },
  {
   "cell_type": "code",
   "execution_count": 30,
   "id": "140da89f",
   "metadata": {},
   "outputs": [],
   "source": [
    "# August + September data\n",
    "\n",
    "Total_drop_zero = []\n",
    "\n",
    "for i in range(len(August_drop_zero)):\n",
    "    temp = np.copy(August_drop_zero[i])\n",
    "    for j in range(len(September_drop_zero[i])):\n",
    "        temp = np.append(temp, September_drop_zero[i][j])\n",
    "    Total_drop_zero.append(temp)"
   ]
  },
  {
   "cell_type": "markdown",
   "id": "5da3dd14",
   "metadata": {},
   "source": [
    "## Random Forest Classifier"
   ]
  },
  {
   "cell_type": "code",
   "execution_count": 45,
   "id": "2fad9512",
   "metadata": {},
   "outputs": [],
   "source": [
    "c_Y = []\n",
    "\n",
    "for i in range(len(Y_drop_zero)):\n",
    "    val = round(Y_drop_zero[i])\n",
    "    c_Y.append(val)"
   ]
  },
  {
   "cell_type": "code",
   "execution_count": 116,
   "id": "b9dce4de",
   "metadata": {},
   "outputs": [],
   "source": [
    "c_June_x_train, c_June_x_test, c_June_y_train, c_June_y_test = train_test_split(June_drop_zero, c_Y, test_size = 0.3)\n",
    "c_June_model = RandomForestClassifier(max_depth = 15, random_state = 0)\n",
    "c_June_model.fit(c_June_x_train, c_June_y_train)\n",
    "c_June_y_pred = c_June_model.predict(c_June_x_test)"
   ]
  },
  {
   "cell_type": "code",
   "execution_count": 115,
   "id": "ccd05be1",
   "metadata": {},
   "outputs": [],
   "source": [
    "c_August_x_train, c_August_x_test, c_August_y_train, c_August_y_test = train_test_split(August_drop_zero, c_Y, test_size = 0.3)\n",
    "c_August_model = RandomForestClassifier(max_depth = 15, random_state = 0)\n",
    "c_August_model.fit(c_August_x_train, c_August_y_train)\n",
    "c_August_y_pred = c_August_model.predict(c_August_x_test)"
   ]
  },
  {
   "cell_type": "code",
   "execution_count": 117,
   "id": "b5b7590e",
   "metadata": {},
   "outputs": [],
   "source": [
    "c_September_x_train, c_September_x_test, c_September_y_train, c_September_y_test = train_test_split(September_drop_zero, c_Y, test_size = 0.3)\n",
    "c_September_model = RandomForestClassifier(max_depth = 15, random_state = 0)\n",
    "c_September_model.fit(c_September_x_train, c_September_y_train)\n",
    "c_September_y_pred = c_September_model.predict(c_September_x_test)"
   ]
  },
  {
   "cell_type": "code",
   "execution_count": 46,
   "id": "b4b02bfe",
   "metadata": {},
   "outputs": [],
   "source": [
    "c_Total_x_train, c_Total_x_test, c_Total_y_train, c_Total_y_test = train_test_split(Total_drop_zero, c_Y, test_size = 0.3)\n",
    "c_Total_model = RandomForestClassifier(max_depth = 15, random_state = 0)\n",
    "c_Total_model.fit(c_Total_x_train, c_Total_y_train)\n",
    "c_Total_y_pred = c_Total_model.predict(c_Total_x_test)"
   ]
  },
  {
   "cell_type": "code",
   "execution_count": 68,
   "id": "e25622ec",
   "metadata": {},
   "outputs": [
    {
     "name": "stdout",
     "output_type": "stream",
     "text": [
      "              precision    recall  f1-score   support\n",
      "\n",
      "           1       0.00      0.00      0.00         1\n",
      "           2       0.00      0.00      0.00         4\n",
      "           3       0.00      0.00      0.00        26\n",
      "           4       0.00      0.00      0.00        74\n",
      "           5       0.00      0.00      0.00       249\n",
      "           6       0.53      1.00      0.69       584\n",
      "           7       0.00      0.00      0.00       161\n",
      "\n",
      "    accuracy                           0.53      1099\n",
      "   macro avg       0.08      0.14      0.10      1099\n",
      "weighted avg       0.28      0.53      0.37      1099\n",
      "\n"
     ]
    },
    {
     "name": "stderr",
     "output_type": "stream",
     "text": [
      "c:\\users\\windows10\\miniconda3\\lib\\site-packages\\sklearn\\metrics\\_classification.py:1318: UndefinedMetricWarning: Precision and F-score are ill-defined and being set to 0.0 in labels with no predicted samples. Use `zero_division` parameter to control this behavior.\n",
      "  _warn_prf(average, modifier, msg_start, len(result))\n",
      "c:\\users\\windows10\\miniconda3\\lib\\site-packages\\sklearn\\metrics\\_classification.py:1318: UndefinedMetricWarning: Precision and F-score are ill-defined and being set to 0.0 in labels with no predicted samples. Use `zero_division` parameter to control this behavior.\n",
      "  _warn_prf(average, modifier, msg_start, len(result))\n",
      "c:\\users\\windows10\\miniconda3\\lib\\site-packages\\sklearn\\metrics\\_classification.py:1318: UndefinedMetricWarning: Precision and F-score are ill-defined and being set to 0.0 in labels with no predicted samples. Use `zero_division` parameter to control this behavior.\n",
      "  _warn_prf(average, modifier, msg_start, len(result))\n"
     ]
    }
   ],
   "source": [
    "print(classification_report(c_June_y_test, c_June_y_pred))"
   ]
  },
  {
   "cell_type": "code",
   "execution_count": 67,
   "id": "0790a207",
   "metadata": {},
   "outputs": [
    {
     "name": "stdout",
     "output_type": "stream",
     "text": [
      "              precision    recall  f1-score   support\n",
      "\n",
      "           1       0.00      0.00      0.00         3\n",
      "           2       0.00      0.00      0.00         2\n",
      "           3       0.00      0.00      0.00        28\n",
      "           4       0.00      0.00      0.00        88\n",
      "           5       0.57      0.11      0.19       256\n",
      "           6       0.54      0.94      0.68       571\n",
      "           7       0.26      0.06      0.10       151\n",
      "\n",
      "    accuracy                           0.53      1099\n",
      "   macro avg       0.19      0.16      0.14      1099\n",
      "weighted avg       0.45      0.53      0.41      1099\n",
      "\n"
     ]
    },
    {
     "name": "stderr",
     "output_type": "stream",
     "text": [
      "c:\\users\\windows10\\miniconda3\\lib\\site-packages\\sklearn\\metrics\\_classification.py:1318: UndefinedMetricWarning: Precision and F-score are ill-defined and being set to 0.0 in labels with no predicted samples. Use `zero_division` parameter to control this behavior.\n",
      "  _warn_prf(average, modifier, msg_start, len(result))\n",
      "c:\\users\\windows10\\miniconda3\\lib\\site-packages\\sklearn\\metrics\\_classification.py:1318: UndefinedMetricWarning: Precision and F-score are ill-defined and being set to 0.0 in labels with no predicted samples. Use `zero_division` parameter to control this behavior.\n",
      "  _warn_prf(average, modifier, msg_start, len(result))\n",
      "c:\\users\\windows10\\miniconda3\\lib\\site-packages\\sklearn\\metrics\\_classification.py:1318: UndefinedMetricWarning: Precision and F-score are ill-defined and being set to 0.0 in labels with no predicted samples. Use `zero_division` parameter to control this behavior.\n",
      "  _warn_prf(average, modifier, msg_start, len(result))\n"
     ]
    }
   ],
   "source": [
    "print(classification_report(c_August_y_test, c_August_y_pred))"
   ]
  },
  {
   "cell_type": "code",
   "execution_count": 118,
   "id": "56ba0557",
   "metadata": {},
   "outputs": [
    {
     "name": "stdout",
     "output_type": "stream",
     "text": [
      "              precision    recall  f1-score   support\n",
      "\n",
      "           1       0.00      0.00      0.00         2\n",
      "           2       0.00      0.00      0.00         5\n",
      "           3       0.00      0.00      0.00        35\n",
      "           4       0.33      0.02      0.04        91\n",
      "           5       0.34      0.20      0.25       256\n",
      "           6       0.54      0.89      0.67       561\n",
      "           7       0.58      0.07      0.13       149\n",
      "\n",
      "    accuracy                           0.51      1099\n",
      "   macro avg       0.26      0.17      0.16      1099\n",
      "weighted avg       0.46      0.51      0.42      1099\n",
      "\n"
     ]
    },
    {
     "name": "stderr",
     "output_type": "stream",
     "text": [
      "c:\\users\\windows10\\miniconda3\\lib\\site-packages\\sklearn\\metrics\\_classification.py:1318: UndefinedMetricWarning: Precision and F-score are ill-defined and being set to 0.0 in labels with no predicted samples. Use `zero_division` parameter to control this behavior.\n",
      "  _warn_prf(average, modifier, msg_start, len(result))\n",
      "c:\\users\\windows10\\miniconda3\\lib\\site-packages\\sklearn\\metrics\\_classification.py:1318: UndefinedMetricWarning: Precision and F-score are ill-defined and being set to 0.0 in labels with no predicted samples. Use `zero_division` parameter to control this behavior.\n",
      "  _warn_prf(average, modifier, msg_start, len(result))\n",
      "c:\\users\\windows10\\miniconda3\\lib\\site-packages\\sklearn\\metrics\\_classification.py:1318: UndefinedMetricWarning: Precision and F-score are ill-defined and being set to 0.0 in labels with no predicted samples. Use `zero_division` parameter to control this behavior.\n",
      "  _warn_prf(average, modifier, msg_start, len(result))\n"
     ]
    }
   ],
   "source": [
    "print(classification_report(c_September_y_test, c_September_y_pred))"
   ]
  },
  {
   "cell_type": "code",
   "execution_count": 48,
   "id": "adfa87e2",
   "metadata": {},
   "outputs": [
    {
     "name": "stdout",
     "output_type": "stream",
     "text": [
      "              precision    recall  f1-score   support\n",
      "\n",
      "           1       0.00      0.00      0.00         2\n",
      "           2       0.00      0.00      0.00         4\n",
      "           3       0.12      0.03      0.05        31\n",
      "           4       0.35      0.23      0.27        93\n",
      "           5       0.40      0.26      0.31       236\n",
      "           6       0.60      0.83      0.70       581\n",
      "           7       0.27      0.14      0.19       152\n",
      "\n",
      "    accuracy                           0.53      1099\n",
      "   macro avg       0.25      0.21      0.22      1099\n",
      "weighted avg       0.48      0.53      0.49      1099\n",
      "\n"
     ]
    },
    {
     "name": "stderr",
     "output_type": "stream",
     "text": [
      "c:\\users\\windows10\\miniconda3\\lib\\site-packages\\sklearn\\metrics\\_classification.py:1318: UndefinedMetricWarning: Precision and F-score are ill-defined and being set to 0.0 in labels with no predicted samples. Use `zero_division` parameter to control this behavior.\n",
      "  _warn_prf(average, modifier, msg_start, len(result))\n",
      "c:\\users\\windows10\\miniconda3\\lib\\site-packages\\sklearn\\metrics\\_classification.py:1318: UndefinedMetricWarning: Precision and F-score are ill-defined and being set to 0.0 in labels with no predicted samples. Use `zero_division` parameter to control this behavior.\n",
      "  _warn_prf(average, modifier, msg_start, len(result))\n",
      "c:\\users\\windows10\\miniconda3\\lib\\site-packages\\sklearn\\metrics\\_classification.py:1318: UndefinedMetricWarning: Precision and F-score are ill-defined and being set to 0.0 in labels with no predicted samples. Use `zero_division` parameter to control this behavior.\n",
      "  _warn_prf(average, modifier, msg_start, len(result))\n"
     ]
    }
   ],
   "source": [
    "print(classification_report(c_Total_y_test, c_Total_y_pred))"
   ]
  },
  {
   "cell_type": "code",
   "execution_count": null,
   "id": "67c23711",
   "metadata": {},
   "outputs": [],
   "source": []
  }
 ],
 "metadata": {
  "kernelspec": {
   "display_name": "Python 3 (ipykernel)",
   "language": "python",
   "name": "python3"
  },
  "language_info": {
   "codemirror_mode": {
    "name": "ipython",
    "version": 3
   },
   "file_extension": ".py",
   "mimetype": "text/x-python",
   "name": "python",
   "nbconvert_exporter": "python",
   "pygments_lexer": "ipython3",
   "version": "3.9.1"
  }
 },
 "nbformat": 4,
 "nbformat_minor": 5
}
